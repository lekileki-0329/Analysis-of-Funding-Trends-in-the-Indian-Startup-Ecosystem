{
 "cells": [
  {
   "cell_type": "markdown",
   "id": "27513264",
   "metadata": {},
   "source": [
    "<H1 style=\"text-align: center;font-size:30px ; font-family: 'Times New Roman'; color:#00008B\"> Project Title</H1><br>"
   ]
  },
  {
   "cell_type": "markdown",
   "id": "9bcfae7a",
   "metadata": {},
   "source": [
    "<p style=\"text-align: center;font-size:25px ;font-weight: bold ; font-family: 'Times New Roman'\"> Analysis of Funding Trends in the Indian Startup Ecosystem</p> <br>"
   ]
  },
  {
   "cell_type": "markdown",
   "id": "107dc886",
   "metadata": {},
   "source": [
    "<H1 style=\"text-align: center;font-size:30px ; font-family: 'Times New Roman'; color: #00008B\"> Project Description</H1> <br><br>"
   ]
  },
  {
   "cell_type": "markdown",
   "id": "c77cf0ce",
   "metadata": {},
   "source": [
    "<p style=\"font-size:20px ;font-weight: bold; font-family: 'Times New Roman'\"> The goal of this initiative is to provide information to important players who are considering entering the Indian startup ecosystem. <br> In order to do this, we will examine important indicators of investment received by startups in India from 2018 to 2021. Management will make strategic business decisions using these information. </p>"
   ]
  },
  {
   "cell_type": "markdown",
   "id": "ba376905",
   "metadata": {},
   "source": [
    "<p style=\"font-size:20px;font-weight: bold; font-family: 'Times New Roman'\"> I created a hypothesis to test the dataset so that I might get a valid conclusion. In order to determine which industry is more likely to attract investment from investors, the data were analyzed in terms of technical and non-technology industries.</p> <br>"
   ]
  },
  {
   "cell_type": "markdown",
   "id": "08c70768",
   "metadata": {},
   "source": [
    "<H1 style=\"text-align: center;font-size:30px ; font-family: 'Times New Roman'; color: #00008B\"> Questions :</H1> <br><br>"
   ]
  },
  {
   "cell_type": "markdown",
   "id": "818f5900",
   "metadata": {},
   "source": [
    "\n",
    "<ol type=\"1\"style=\"font-size:20px;font-weight: bold;font-family: 'Times New Roman'\"> \n",
    "    <li>Does the sort of industry have an impact on funding success?</li>\n",
    "    <li>Can the success of obtaining finance from investors be impacted by location?</li>\n",
    "    <li>Which stage receives more investment from investors for start-ups?</li>\n",
    "    <li>Who makes the biggest investments among investors?</li>\n",
    "    <li>Can the startup's age effect the amount of funding it receives from investors?</li>\n",
    "</ol><br><br>\n"
   ]
  },
  {
   "cell_type": "markdown",
   "id": "12c30ecb",
   "metadata": {},
   "source": [
    "<H1 style=\"text-align: center;font-size:30px ; font-family: 'Times New Roman'; color: #00008B\"> Hypothesis :</H1> <br><br>"
   ]
  },
  {
   "cell_type": "markdown",
   "id": "ba56a693",
   "metadata": {},
   "source": [
    "<p style=\"font-size:20px;font-weight: bold; font-family: 'Times New Roman'\"> I created the null and alternate hypotheses to concentrate on two groups: companies that are technology-biased and startups that are not technology-biased, in order to further evaluate and analyze the data. Hence, the following two hypotheses are presented:</p> <br> "
   ]
  },
  {
   "cell_type": "markdown",
   "id": "f9071a96",
   "metadata": {},
   "source": [
    "<p style=\"font-size:20px;font-weight: bold; font-family: 'Times New Roman'\"> NULL: A better success rate of funding does not exist for technological industries.</p> <br> "
   ]
  },
  {
   "cell_type": "markdown",
   "id": "0fc0e5c8",
   "metadata": {},
   "source": [
    "<p style=\"font-size:20px;font-weight: bold; font-family: 'Times New Roman'\"> ALTERNATE: : Technical industries has a better rate chance of getting funded.</p> <br>"
   ]
  },
  {
   "cell_type": "code",
   "execution_count": null,
   "id": "eff9a29e",
   "metadata": {},
   "outputs": [],
   "source": []
  }
 ],
 "metadata": {
  "kernelspec": {
   "display_name": "Python 3 (ipykernel)",
   "language": "python",
   "name": "python3"
  },
  "language_info": {
   "codemirror_mode": {
    "name": "ipython",
    "version": 3
   },
   "file_extension": ".py",
   "mimetype": "text/x-python",
   "name": "python",
   "nbconvert_exporter": "python",
   "pygments_lexer": "ipython3",
   "version": "3.9.13"
  }
 },
 "nbformat": 4,
 "nbformat_minor": 5
}
